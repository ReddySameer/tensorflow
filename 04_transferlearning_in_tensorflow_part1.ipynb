{
  "nbformat": 4,
  "nbformat_minor": 0,
  "metadata": {
    "colab": {
      "provenance": [],
      "authorship_tag": "ABX9TyMGxf4K+FjODEbsR7DZDnR0",
      "include_colab_link": true
    },
    "kernelspec": {
      "name": "python3",
      "display_name": "Python 3"
    },
    "language_info": {
      "name": "python"
    }
  },
  "cells": [
    {
      "cell_type": "markdown",
      "metadata": {
        "id": "view-in-github",
        "colab_type": "text"
      },
      "source": [
        "<a href=\"https://colab.research.google.com/github/ReddySameer/tensorflow/blob/main/04_transferlearning_in_tensorflow_part1.ipynb\" target=\"_parent\"><img src=\"https://colab.research.google.com/assets/colab-badge.svg\" alt=\"Open In Colab\"/></a>"
      ]
    },
    {
      "cell_type": "code",
      "execution_count": 1,
      "metadata": {
        "colab": {
          "base_uri": "https://localhost:8080/"
        },
        "id": "IIx4peMnUH0v",
        "outputId": "b2f60cf0-672a-45c6-eda1-87031fd3db99"
      },
      "outputs": [
        {
          "output_type": "stream",
          "name": "stdout",
          "text": [
            "Tue May 28 19:06:36 2024       \n",
            "+---------------------------------------------------------------------------------------+\n",
            "| NVIDIA-SMI 535.104.05             Driver Version: 535.104.05   CUDA Version: 12.2     |\n",
            "|-----------------------------------------+----------------------+----------------------+\n",
            "| GPU  Name                 Persistence-M | Bus-Id        Disp.A | Volatile Uncorr. ECC |\n",
            "| Fan  Temp   Perf          Pwr:Usage/Cap |         Memory-Usage | GPU-Util  Compute M. |\n",
            "|                                         |                      |               MIG M. |\n",
            "|=========================================+======================+======================|\n",
            "|   0  Tesla T4                       Off | 00000000:00:04.0 Off |                    0 |\n",
            "| N/A   57C    P8              11W /  70W |      0MiB / 15360MiB |      0%      Default |\n",
            "|                                         |                      |                  N/A |\n",
            "+-----------------------------------------+----------------------+----------------------+\n",
            "                                                                                         \n",
            "+---------------------------------------------------------------------------------------+\n",
            "| Processes:                                                                            |\n",
            "|  GPU   GI   CI        PID   Type   Process name                            GPU Memory |\n",
            "|        ID   ID                                                             Usage      |\n",
            "|=======================================================================================|\n",
            "|  No running processes found                                                           |\n",
            "+---------------------------------------------------------------------------------------+\n"
          ]
        }
      ],
      "source": [
        "!nvidia-smi"
      ]
    },
    {
      "cell_type": "markdown",
      "source": [],
      "metadata": {
        "id": "_HrXlLhaWPwt"
      }
    },
    {
      "cell_type": "code",
      "source": [
        "import zipfile\n",
        "!wget https://storage.googleapis.com/ztm_tf_course/food_vision/10_food_classes_10_percent.zip\n",
        "zip_ref = zipfile.ZipFile(\"10_food_classes_10_percent.zip\")\n",
        "zip_ref.extractall()\n",
        "zip_ref.close()"
      ],
      "metadata": {
        "colab": {
          "base_uri": "https://localhost:8080/"
        },
        "id": "X4i_jprqUjW8",
        "outputId": "a5b11baa-164c-4e72-b511-93645f258825"
      },
      "execution_count": 2,
      "outputs": [
        {
          "output_type": "stream",
          "name": "stdout",
          "text": [
            "--2024-05-28 19:06:43--  https://storage.googleapis.com/ztm_tf_course/food_vision/10_food_classes_10_percent.zip\n",
            "Resolving storage.googleapis.com (storage.googleapis.com)... 74.125.142.207, 74.125.195.207, 172.253.117.207, ...\n",
            "Connecting to storage.googleapis.com (storage.googleapis.com)|74.125.142.207|:443... connected.\n",
            "HTTP request sent, awaiting response... 200 OK\n",
            "Length: 168546183 (161M) [application/zip]\n",
            "Saving to: ‘10_food_classes_10_percent.zip’\n",
            "\n",
            "10_food_classes_10_ 100%[===================>] 160.74M  82.4MB/s    in 2.0s    \n",
            "\n",
            "2024-05-28 19:06:45 (82.4 MB/s) - ‘10_food_classes_10_percent.zip’ saved [168546183/168546183]\n",
            "\n"
          ]
        }
      ]
    },
    {
      "cell_type": "code",
      "source": [
        "import os\n",
        "for dirpath, dirnames, filenames in os.walk(\"10_food_classes_10_percent\"):\n",
        "  print(f\"len of Dirnames: {len(dirnames)} and len of iamge filenames: {len(filenames)} in Directory '{dirpath}',\")"
      ],
      "metadata": {
        "colab": {
          "base_uri": "https://localhost:8080/"
        },
        "id": "MBhNKL3NVfd_",
        "outputId": "638a2618-d545-41f4-d8e6-1043b911a429"
      },
      "execution_count": 3,
      "outputs": [
        {
          "output_type": "stream",
          "name": "stdout",
          "text": [
            "len of Dirnames: 2 and len of iamge filenames: 0 in Directory '10_food_classes_10_percent',\n",
            "len of Dirnames: 10 and len of iamge filenames: 0 in Directory '10_food_classes_10_percent/test',\n",
            "len of Dirnames: 0 and len of iamge filenames: 250 in Directory '10_food_classes_10_percent/test/fried_rice',\n",
            "len of Dirnames: 0 and len of iamge filenames: 250 in Directory '10_food_classes_10_percent/test/sushi',\n",
            "len of Dirnames: 0 and len of iamge filenames: 250 in Directory '10_food_classes_10_percent/test/hamburger',\n",
            "len of Dirnames: 0 and len of iamge filenames: 250 in Directory '10_food_classes_10_percent/test/chicken_wings',\n",
            "len of Dirnames: 0 and len of iamge filenames: 250 in Directory '10_food_classes_10_percent/test/pizza',\n",
            "len of Dirnames: 0 and len of iamge filenames: 250 in Directory '10_food_classes_10_percent/test/ice_cream',\n",
            "len of Dirnames: 0 and len of iamge filenames: 250 in Directory '10_food_classes_10_percent/test/ramen',\n",
            "len of Dirnames: 0 and len of iamge filenames: 250 in Directory '10_food_classes_10_percent/test/steak',\n",
            "len of Dirnames: 0 and len of iamge filenames: 250 in Directory '10_food_classes_10_percent/test/chicken_curry',\n",
            "len of Dirnames: 0 and len of iamge filenames: 250 in Directory '10_food_classes_10_percent/test/grilled_salmon',\n",
            "len of Dirnames: 10 and len of iamge filenames: 0 in Directory '10_food_classes_10_percent/train',\n",
            "len of Dirnames: 0 and len of iamge filenames: 75 in Directory '10_food_classes_10_percent/train/fried_rice',\n",
            "len of Dirnames: 0 and len of iamge filenames: 75 in Directory '10_food_classes_10_percent/train/sushi',\n",
            "len of Dirnames: 0 and len of iamge filenames: 75 in Directory '10_food_classes_10_percent/train/hamburger',\n",
            "len of Dirnames: 0 and len of iamge filenames: 75 in Directory '10_food_classes_10_percent/train/chicken_wings',\n",
            "len of Dirnames: 0 and len of iamge filenames: 75 in Directory '10_food_classes_10_percent/train/pizza',\n",
            "len of Dirnames: 0 and len of iamge filenames: 75 in Directory '10_food_classes_10_percent/train/ice_cream',\n",
            "len of Dirnames: 0 and len of iamge filenames: 75 in Directory '10_food_classes_10_percent/train/ramen',\n",
            "len of Dirnames: 0 and len of iamge filenames: 75 in Directory '10_food_classes_10_percent/train/steak',\n",
            "len of Dirnames: 0 and len of iamge filenames: 75 in Directory '10_food_classes_10_percent/train/chicken_curry',\n",
            "len of Dirnames: 0 and len of iamge filenames: 75 in Directory '10_food_classes_10_percent/train/grilled_salmon',\n"
          ]
        }
      ]
    },
    {
      "cell_type": "markdown",
      "source": [
        "# Use  ImageDataGenerator to load images in batches"
      ],
      "metadata": {
        "id": "HdwKkirqXgbH"
      }
    },
    {
      "cell_type": "code",
      "source": [
        "from tensorflow.keras.preprocessing.image import ImageDataGenerator"
      ],
      "metadata": {
        "id": "O0GlBIlVYsSf"
      },
      "execution_count": 4,
      "outputs": []
    },
    {
      "cell_type": "markdown",
      "source": [],
      "metadata": {
        "id": "xL3By0yoj91a"
      }
    },
    {
      "cell_type": "code",
      "source": [
        "## Create Dataloaders\n",
        "IMAGE_SHAPE = (224, 224)  # Hyperparameters (?)\n",
        "BATCH_SIZE = 5  # Hyperparameters (?)\n",
        "\n",
        "train_dir = \"10_food_classes_10_percent/train\"\n",
        "test_dir = \"10_food_classes_10_percent/test\"\n",
        "\n",
        "train_datagen = ImageDataGenerator(rescale=1/255.)\n",
        "test_datagen = ImageDataGenerator(rescale=1/255.)\n",
        "\n",
        "print(\"training images:\")\n",
        "train_data_10_percent = train_datagen.flow_from_directory(train_dir,\n",
        "                                                          target_size=IMAGE_SHAPE,\n",
        "                                                          batch_size=BATCH_SIZE,\n",
        "                                                          class_mode=\"categorical\")\n",
        "\n",
        "print(\"testing images:\")\n",
        "test_data_10_percent = test_datagen.flow_from_directory(test_dir,\n",
        "                                                          target_size=IMAGE_SHAPE,\n",
        "                                                          batch_size=BATCH_SIZE,\n",
        "                                                          class_mode=\"categorical\")"
      ],
      "metadata": {
        "colab": {
          "base_uri": "https://localhost:8080/"
        },
        "id": "LfxNjkYoXRA5",
        "outputId": "f3d41252-c185-4384-9ac6-9b3707c36194"
      },
      "execution_count": 5,
      "outputs": [
        {
          "output_type": "stream",
          "name": "stdout",
          "text": [
            "training images:\n",
            "Found 750 images belonging to 10 classes.\n",
            "testing images:\n",
            "Found 2500 images belonging to 10 classes.\n"
          ]
        }
      ]
    },
    {
      "cell_type": "markdown",
      "source": [
        "## Callbacks\n",
        "Callbacks are extra functionality on the models that can be performed during or after training, evaluation or inference.\n",
        "\n",
        "* **TensorBoard** - to log performance of multiple models - track experiments\n",
        "* **Model Checkpointing**  - save model as it trains, to enable stop/restart training from it left off\n",
        "* **Early Stopping** - Stop training after an arbitrary amount of time and to stop training automatically when it ceases to improve\n"
      ],
      "metadata": {
        "id": "pXlPUdVvZV9o"
      }
    },
    {
      "cell_type": "code",
      "source": [
        "import tensorflow as tf"
      ],
      "metadata": {
        "id": "pnvNC9RecEJk"
      },
      "execution_count": 6,
      "outputs": []
    },
    {
      "cell_type": "code",
      "source": [
        "import datetime\n",
        "def create_tensorboard_callback(dir_name, experiment_name):\n",
        "  log_dir = dir_name + \"/\" + experiment_name + \"/\" + datetime.datetime.now().strftime(\"%Y%m%d-%H%M%S\")\n",
        "  tensorbaord_callback = tf.keras.callbacks.TensorBoard(log_dir=log_dir)\n",
        "  print(f\"Saving tensorboard log files to: {log_dir}\")\n",
        "  return tensorbaord_callback"
      ],
      "metadata": {
        "id": "1WZQZbKkanYz"
      },
      "execution_count": 7,
      "outputs": []
    },
    {
      "cell_type": "markdown",
      "source": [
        "# Access pretrained models from https://www.kaggle.com/models?tfhub-redirect=true\n",
        "\n",
        "* https://www.kaggle.com/models/tensorflow/efficientnet\n"
      ],
      "metadata": {
        "id": "U3_J1IvCeZ2i"
      }
    },
    {
      "cell_type": "code",
      "source": [
        "resnet_url=\"https://tfhub.dev/google/imagenet/resnet_v2_50/feature_vector/4\"\n",
        "efficientnet_url = \"https://tfhub.dev/tensorflow/efficientnet/b0/feature-vector/1\""
      ],
      "metadata": {
        "id": "CEVX0EwueoRK"
      },
      "execution_count": 8,
      "outputs": []
    },
    {
      "cell_type": "code",
      "source": [
        "import tensorflow_hub as hub\n",
        "from tensorflow.keras import layers"
      ],
      "metadata": {
        "id": "9HvS-c0LvyUb"
      },
      "execution_count": 9,
      "outputs": []
    },
    {
      "cell_type": "code",
      "source": [
        "IMAGE_SHAPE, IMAGE_SHAPE+(3,)\n"
      ],
      "metadata": {
        "colab": {
          "base_uri": "https://localhost:8080/"
        },
        "id": "SbUeaduvxA80",
        "outputId": "3073d4ad-cd5e-4a77-e65f-b58ab8a41821"
      },
      "execution_count": 10,
      "outputs": [
        {
          "output_type": "execute_result",
          "data": {
            "text/plain": [
              "((224, 224), (224, 224, 3))"
            ]
          },
          "metadata": {},
          "execution_count": 10
        }
      ]
    },
    {
      "cell_type": "code",
      "source": [
        "# Create a model function from a URL\n",
        "def create_model(model_url, num_classes=10):\n",
        "  \"\"\"\n",
        "   Takes a TEnsorflow hub url and creates a keras sequential model with it.\n",
        "\n",
        "   Args:\n",
        "    model_url (str): A Tensorflow hub feature extraction url\n",
        "    num_classes (int): Number of output neurons in the output layer,\n",
        "    should be equal to number of target classes, default 10\n",
        "\n",
        "   Returns:\n",
        "    An uncompiled Keras Sequential model with Model_url as feature extractor layer\n",
        "    and Dense output layer with num_classes output neurons\n",
        "\n",
        "  \"\"\"\n",
        "\n",
        "  feature_extraction_layer = hub.KerasLayer(model_url,\n",
        "                                           trainable=False, # freeze already learned patterns\n",
        "                                           name=\"feature_extraction_layer\",\n",
        "                                           input_shape=IMAGE_SHAPE+(3,))\n",
        "  model = tf.keras.Sequential([\n",
        "      feature_extraction_layer,\n",
        "      tf.keras.layers.Dense(num_classes, activation=\"softmax\", name=\"output_layer\")\n",
        "  ])\n",
        "  return model"
      ],
      "metadata": {
        "id": "7qEaKr-Jv7Ln"
      },
      "execution_count": 11,
      "outputs": []
    },
    {
      "cell_type": "code",
      "source": [
        "# create a Resnet Model\n",
        "resnet_model = create_model(resnet_url, num_classes=train_data_10_percent.num_classes)"
      ],
      "metadata": {
        "id": "sutbjmqAyBQe"
      },
      "execution_count": 12,
      "outputs": []
    },
    {
      "cell_type": "code",
      "source": [
        "resnet_model.compile(loss=\"categorical_crossentropy\",\n",
        "                     optimizer=tf.keras.optimizers.Adam(),\n",
        "                     metrics=[\"accuracy\"])"
      ],
      "metadata": {
        "id": "77_1Oku5y84-"
      },
      "execution_count": 13,
      "outputs": []
    },
    {
      "cell_type": "code",
      "source": [
        "resnet_history = resnet_model.fit(train_data_10_percent,\n",
        "                                  epochs=5,\n",
        "                                  steps_per_epoch=len(train_data_10_percent),\n",
        "                                  validation_data=test_data_10_percent,\n",
        "                                  validation_steps=len(test_data_10_percent),\n",
        "                                  callbacks=[create_tensorboard_callback(dir_name=\"tensorflow_hub\",\n",
        "                                                                         experiment_name=\"resnet50V2\"\n",
        "                                                                         )])"
      ],
      "metadata": {
        "colab": {
          "base_uri": "https://localhost:8080/"
        },
        "id": "UOzzABNMzYbE",
        "outputId": "45f2d39e-05e9-4f77-e39f-72e3cc3e81af"
      },
      "execution_count": 14,
      "outputs": [
        {
          "output_type": "stream",
          "name": "stdout",
          "text": [
            "Saving tensorboard log files to: tensorflow_hub/resnet50V2/20240528-190728\n",
            "Epoch 1/5\n",
            "150/150 [==============================] - 22s 98ms/step - loss: 1.4311 - accuracy: 0.5387 - val_loss: 0.7898 - val_accuracy: 0.7408\n",
            "Epoch 2/5\n",
            "150/150 [==============================] - 12s 83ms/step - loss: 0.5485 - accuracy: 0.8320 - val_loss: 0.6819 - val_accuracy: 0.7716\n",
            "Epoch 3/5\n",
            "150/150 [==============================] - 13s 86ms/step - loss: 0.3313 - accuracy: 0.9227 - val_loss: 0.6545 - val_accuracy: 0.7840\n",
            "Epoch 4/5\n",
            "150/150 [==============================] - 14s 92ms/step - loss: 0.2140 - accuracy: 0.9600 - val_loss: 0.6312 - val_accuracy: 0.7916\n",
            "Epoch 5/5\n",
            "150/150 [==============================] - 13s 87ms/step - loss: 0.1431 - accuracy: 0.9853 - val_loss: 0.6556 - val_accuracy: 0.7796\n"
          ]
        }
      ]
    },
    {
      "cell_type": "code",
      "source": [
        "# Function to create  model to plot the loss codes\n",
        "import matplotlib.pyplot as plt\n",
        "\n",
        "def plot_loss_curves(history):\n",
        "  \"\"\"\n",
        "    Returns separate loss curves for training and validation metrics.\n",
        "\n",
        "    Args:\n",
        "      history: TensorFlow History object\n",
        "\n",
        "    Returns:\n",
        "      Plots of training/validation loss and accuracy metrics\n",
        "  \"\"\"\n",
        "\n",
        "  loss = history.history[\"loss\"]\n",
        "  val_loss = history.history[\"val_accuracy\"]\n",
        "\n",
        "  accuracy = history.history[\"accuracy\"]\n",
        "  val_accuracy = history.history[\"val_accuracy\"]\n",
        "\n",
        "  epochs = range(len(history.history[\"loss\"]))\n",
        "\n",
        "  plt.plot(epochs, loss, label=\"training_loss\")\n",
        "  plt.plot(epochs, val_loss, label=\"val_loss\")\n",
        "  plt.title(\"Loss\")\n",
        "  plt.xlabel(\"Epochs\")\n",
        "  plt.legend()\n",
        "\n",
        "  plt.figure()\n",
        "  plt.plot(epochs, accuracy, label=\"training_accuracy\")\n",
        "  plt.plot(epochs, val_accuracy, label=\"val_accuracy\")\n",
        "  plt.title(\"Accuracy\")\n",
        "  plt.xlabel(\"Epochs\")\n",
        "  plt.legend()\n"
      ],
      "metadata": {
        "id": "a7sQ6U062Iys"
      },
      "execution_count": 15,
      "outputs": []
    },
    {
      "cell_type": "code",
      "source": [
        "plot_loss_curves(resnet_history)"
      ],
      "metadata": {
        "colab": {
          "base_uri": "https://localhost:8080/",
          "height": 927
        },
        "id": "7rj4nq0z5MOC",
        "outputId": "17093dfa-e5d7-493b-bbe3-8ff9b3845233"
      },
      "execution_count": 16,
      "outputs": [
        {
          "output_type": "display_data",
          "data": {
            "text/plain": [
              "<Figure size 640x480 with 1 Axes>"
            ],
            "image/png": "[encoded data removed]"
          },
          "metadata": {}
        },
        {
          "output_type": "display_data",
          "data": {
            "text/plain": [
              "<Figure size 640x480 with 1 Axes>"
            ],
            "image/png": "[encoded data removed]"
          },
          "metadata": {}
        }
      ]
    },
    {
      "cell_type": "code",
      "source": [
        "resnet_model.summary()"
      ],
      "metadata": {
        "colab": {
          "base_uri": "https://localhost:8080/"
        },
        "id": "Z5uS4qway4ni",
        "outputId": "fe441dbe-f6f7-4a68-abc1-39d834b60e2d"
      },
      "execution_count": 17,
      "outputs": [
        {
          "output_type": "stream",
          "name": "stdout",
          "text": [
            "Model: \"sequential\"\n",
            "_________________________________________________________________\n",
            " Layer (type)                Output Shape              Param #   \n",
            "=================================================================\n",
            " feature_extraction_layer (  (None, 2048)              23564800  \n",
            " KerasLayer)                                                     \n",
            "                                                                 \n",
            " output_layer (Dense)        (None, 10)                20490     \n",
            "                                                                 \n",
            "=================================================================\n",
            "Total params: 23585290 (89.97 MB)\n",
            "Trainable params: 20490 (80.04 KB)\n",
            "Non-trainable params: 23564800 (89.89 MB)\n",
            "_________________________________________________________________\n"
          ]
        }
      ]
    },
    {
      "cell_type": "markdown",
      "source": [
        "# EfficientNetB0"
      ],
      "metadata": {
        "id": "5u32cVm26sxs"
      }
    },
    {
      "cell_type": "code",
      "source": [
        "efficientnet_model = create_model(model_url=efficientnet_url,\n",
        "                                  num_classes=train_data_10_percent.num_classes)\n",
        "efficientnet_model.compile(loss=\"categorical_crossentropy\",\n",
        "                           optimizer=tf.keras.optimizers.Adam(),\n",
        "                           metrics=[\"accuracy\"])\n",
        "efficientnet_history= efficientnet_model.fit(train_data_10_percent,\n",
        "                                             epochs=5,\n",
        "                                             steps_per_epoch=len(train_data_10_percent),\n",
        "                                             validation_data=test_data_10_percent,\n",
        "                                             validation_steps=len(test_data_10_percent),\n",
        "                                             callbacks=[create_tensorboard_callback(dir_name=\"tensorflow_hub\",\n",
        "                                                                                    experiment_name=\"efficientnetb0\"\n",
        "                                                                                    )])\n"
      ],
      "metadata": {
        "colab": {
          "base_uri": "https://localhost:8080/"
        },
        "id": "uokaZTn36w34",
        "outputId": "2c34802f-72e8-49ff-a18a-2d6718ba2ad1"
      },
      "execution_count": 18,
      "outputs": [
        {
          "output_type": "stream",
          "name": "stdout",
          "text": [
            "Saving tensorboard log files to: tensorflow_hub/efficientnetb0/20240528-190933\n",
            "Epoch 1/5\n",
            "150/150 [==============================] - 22s 80ms/step - loss: 1.2889 - accuracy: 0.6213 - val_loss: 0.7074 - val_accuracy: 0.8364\n",
            "Epoch 2/5\n",
            "150/150 [==============================] - 13s 86ms/step - loss: 0.5748 - accuracy: 0.8547 - val_loss: 0.5420 - val_accuracy: 0.8460\n",
            "Epoch 3/5\n",
            "150/150 [==============================] - 13s 85ms/step - loss: 0.4046 - accuracy: 0.9027 - val_loss: 0.4665 - val_accuracy: 0.8696\n",
            "Epoch 4/5\n",
            "150/150 [==============================] - 17s 112ms/step - loss: 0.3000 - accuracy: 0.9427 - val_loss: 0.4267 - val_accuracy: 0.8712\n",
            "Epoch 5/5\n",
            "150/150 [==============================] - 23s 156ms/step - loss: 0.2316 - accuracy: 0.9707 - val_loss: 0.4213 - val_accuracy: 0.8696\n"
          ]
        }
      ]
    },
    {
      "cell_type": "code",
      "source": [
        "plot_loss_curves(efficientnet_history)"
      ],
      "metadata": {
        "colab": {
          "base_uri": "https://localhost:8080/",
          "height": 927
        },
        "id": "m7Rt38AWnMN7",
        "outputId": "4c856556-049f-4d67-fa54-d6b62fe55c50"
      },
      "execution_count": 19,
      "outputs": [
        {
          "output_type": "display_data",
          "data": {
            "text/plain": [
              "<Figure size 640x480 with 1 Axes>"
            ],
            "image/png": "[encoded data removed]"
          },
          "metadata": {}
        },
        {
          "output_type": "display_data",
          "data": {
            "text/plain": [
              "<Figure size 640x480 with 1 Axes>"
            ],
            "image/png": "[encoded data removed]"
          },
          "metadata": {}
        }
      ]
    },
    {
      "cell_type": "code",
      "source": [
        "efficientnet_model.layers\n",
        "efficientnet_model.layers[0]\n",
        "efficientnet_model.layers[0].weights\n",
        "len(efficientnet_model.layers[0].weights)"
      ],
      "metadata": {
        "colab": {
          "base_uri": "https://localhost:8080/"
        },
        "id": "hxMXc3Cw7IBm",
        "outputId": "c4fa1ebb-5c7e-4a18-da54-b1c99d791ad6"
      },
      "execution_count": 20,
      "outputs": [
        {
          "output_type": "execute_result",
          "data": {
            "text/plain": [
              "309"
            ]
          },
          "metadata": {},
          "execution_count": 20
        }
      ]
    },
    {
      "cell_type": "code",
      "source": [
        "!tensorboard dev upload --logdir ./tensorflow_hub/ \\\n",
        "  --name \"EfficientNetB0 vs ResNet50V2 vs Mobilenet-V2\" \\\n",
        "  --description \"Compares three different TF Hub Feature extraction model architecures using 10% of the training data\" \\\n",
        "  --one_shot"
      ],
      "metadata": {
        "colab": {
          "base_uri": "https://localhost:8080/"
        },
        "id": "JhqM4jZGoVyC",
        "outputId": "8ce0b288-18aa-443f-e13e-7f87835caad2"
      },
      "execution_count": 29,
      "outputs": [
        {
          "output_type": "stream",
          "name": "stdout",
          "text": [
            "2024-05-28 19:18:13.565332: E external/local_xla/xla/stream_executor/cuda/cuda_dnn.cc:9261] Unable to register cuDNN factory: Attempting to register factory for plugin cuDNN when one has already been registered\n",
            "2024-05-28 19:18:13.565390: E external/local_xla/xla/stream_executor/cuda/cuda_fft.cc:607] Unable to register cuFFT factory: Attempting to register factory for plugin cuFFT when one has already been registered\n",
            "2024-05-28 19:18:13.566804: E external/local_xla/xla/stream_executor/cuda/cuda_blas.cc:1515] Unable to register cuBLAS factory: Attempting to register factory for plugin cuBLAS when one has already been registered\n",
            "2024-05-28 19:18:14.551796: W tensorflow/compiler/tf2tensorrt/utils/py_utils.cc:38] TF-TRT Warning: Could not find TensorRT\n",
            "****************************************************************\n",
            "****************************************************************\n",
            "****************************************************************\n",
            "\n",
            "Uploading TensorBoard logs to https://tensorboard.dev/ is no longer\n",
            "supported.\n",
            "\n",
            "TensorBoard.dev is shutting down.\n",
            "\n",
            "Please export your experiments by Dec 31, 2023.\n",
            "\n",
            "See the FAQ at https://tensorboard.dev.\n",
            "\n",
            "****************************************************************\n",
            "****************************************************************\n",
            "****************************************************************\n"
          ]
        }
      ]
    },
    {
      "cell_type": "code",
      "source": [
        "# Upload to tensor board\n",
        "!tensorboard dev upload --logdir ./tensorflow_hub/ \\\n",
        "  --name \"EfficientNetB0 vs ResNet50V2 vs Mobilenet-V2\"\n",
        "  --description \"Compares three different TF Hub Feature extraction model architecures using 10% of the training data\"\n",
        "  --one_shot\n"
      ],
      "metadata": {
        "colab": {
          "base_uri": "https://localhost:8080/",
          "height": 124
        },
        "id": "8mPFzMEDB2Md",
        "outputId": "15592a1e-d433-4778-9d58-f9dcbd688101"
      },
      "execution_count": 25,
      "outputs": [
        {
          "output_type": "error",
          "ename": "IndentationError",
          "evalue": "unexpected indent (<ipython-input-25-4ae549f4573a>, line 3)",
          "traceback": [
            "\u001b[0;36m  File \u001b[0;32m\"<ipython-input-25-4ae549f4573a>\"\u001b[0;36m, line \u001b[0;32m3\u001b[0m\n\u001b[0;31m    --description \"Compares three different TF Hub Feature extraction model architecures using 10% of the training data\"\u001b[0m\n\u001b[0m    ^\u001b[0m\n\u001b[0;31mIndentationError\u001b[0m\u001b[0;31m:\u001b[0m unexpected indent\n"
          ]
        }
      ]
    },
    {
      "cell_type": "code",
      "source": [
        "mobilenet_url=\"https://kaggle.com/models/google/mobilenet-v2/TensorFlow2/100-224-feature-vector/1\""
      ],
      "metadata": {
        "id": "2u36m2gAkPKm"
      },
      "execution_count": 23,
      "outputs": []
    },
    {
      "cell_type": "code",
      "source": [
        "train_data_10_percent.num_classes"
      ],
      "metadata": {
        "colab": {
          "base_uri": "https://localhost:8080/"
        },
        "id": "anHsMRnjkrcM",
        "outputId": "74c5efc2-3237-4d1a-dbf7-5bc5311ac15d"
      },
      "execution_count": 13,
      "outputs": [
        {
          "output_type": "execute_result",
          "data": {
            "text/plain": [
              "10"
            ]
          },
          "metadata": {},
          "execution_count": 13
        }
      ]
    },
    {
      "cell_type": "code",
      "source": [
        "mobilenet_model = create_model(mobilenet_url, num_classes=train_data_10_percent.num_classes)\n",
        "\n",
        "mobilenet_model.compile(\n",
        "    loss=\"categorical_crossentropy\",\n",
        "    optimizer=tf.keras.optimizers.Adam(),\n",
        "    metrics=[\"accuracy\"]\n",
        ")\n",
        "\n",
        "mobilenet_history = mobilenet_model.fit(train_data_10_percent,\n",
        "                    epochs=5,\n",
        "                    steps_per_epoch=len(train_data_10_percent),\n",
        "                    validation_data=test_data_10_percent,\n",
        "                    validation_steps=len(test_data_10_percent),\n",
        "                    callbacks=[create_tensorboard_callback(dir_name=\"tensorflow_hub\",\n",
        "                                                           experiment_name=\"mobilenet-v2\"\n",
        "                                                          )])"
      ],
      "metadata": {
        "colab": {
          "base_uri": "https://localhost:8080/"
        },
        "id": "5uigQsP4kecc",
        "outputId": "70ac5119-339a-4970-8a17-fe0b486f23d5"
      },
      "execution_count": 24,
      "outputs": [
        {
          "output_type": "stream",
          "name": "stdout",
          "text": [
            "Saving tensorboard log files to: tensorflow_hub/mobilenet-v2/20240528-191322\n",
            "Epoch 1/5\n",
            "150/150 [==============================] - 15s 72ms/step - loss: 1.5365 - accuracy: 0.5013 - val_loss: 0.7969 - val_accuracy: 0.7456\n",
            "Epoch 2/5\n",
            "150/150 [==============================] - 13s 85ms/step - loss: 0.6326 - accuracy: 0.8080 - val_loss: 0.6415 - val_accuracy: 0.7976\n",
            "Epoch 3/5\n",
            "150/150 [==============================] - 13s 84ms/step - loss: 0.4009 - accuracy: 0.8947 - val_loss: 0.6060 - val_accuracy: 0.7988\n",
            "Epoch 4/5\n",
            "150/150 [==============================] - 14s 91ms/step - loss: 0.2876 - accuracy: 0.9373 - val_loss: 0.5649 - val_accuracy: 0.8140\n",
            "Epoch 5/5\n",
            "150/150 [==============================] - 13s 85ms/step - loss: 0.2028 - accuracy: 0.9733 - val_loss: 0.5510 - val_accuracy: 0.8184\n"
          ]
        }
      ]
    },
    {
      "cell_type": "code",
      "source": [
        "plot_loss_curves(mobilenet_history)"
      ],
      "metadata": {
        "id": "Gm3Ug2xtnIcu"
      },
      "execution_count": null,
      "outputs": []
    }
  ]
}